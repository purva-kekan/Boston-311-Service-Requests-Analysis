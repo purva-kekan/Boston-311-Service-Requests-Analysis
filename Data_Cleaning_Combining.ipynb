{
 "cells": [
  {
   "cell_type": "markdown",
   "id": "691e94b1-9231-4c4e-9571-2fc86d19d630",
   "metadata": {
    "jp-MarkdownHeadingCollapsed": true
   },
   "source": [
    "# DATA COMBINING"
   ]
  },
  {
   "cell_type": "code",
   "execution_count": 1,
   "id": "1f5f6039-709b-40e6-94e7-c08d313f3d77",
   "metadata": {},
   "outputs": [],
   "source": [
    "import pandas as pd\n",
    "import numpy as np\n",
    "import matplotlib.pyplot as plt\n",
    "import seaborn as sns\n",
    "import os\n",
    "import warnings\n",
    "warnings.filterwarnings('ignore')"
   ]
  },
  {
   "cell_type": "code",
   "execution_count": 2,
   "id": "b2178336-2ab8-4ac7-b2df-5b6473d3df0b",
   "metadata": {},
   "outputs": [
    {
     "name": "stdout",
     "output_type": "stream",
     "text": [
      "['2011.csv', '2012.csv', '2013.csv', '2014.csv', '2015.csv', '2016.csv', '2017.csv', '2018.csv', '2019.csv', '2020.csv', '2021.csv', '2022.csv', '2023.csv', '2024.csv', '2025.csv']\n"
     ]
    }
   ],
   "source": [
    "# Folder path containing the CSV files\n",
    "folder_path = \"D:\\\\6980-Capstone\\\\Individual Project\\\\datasets\"\n",
    "\n",
    "# List all CSV files in the folder\n",
    "csv_files = [f for f in os.listdir(folder_path) if f.endswith('.csv')]\n",
    "\n",
    "# Sort the files to ensure they are processed in chronological order\n",
    "csv_files.sort()\n",
    "\n",
    "print(csv_files)"
   ]
  },
  {
   "cell_type": "code",
   "execution_count": 3,
   "id": "2ed8148f-20f4-4557-9d28-3aeac864fd00",
   "metadata": {},
   "outputs": [
    {
     "name": "stdout",
     "output_type": "stream",
     "text": [
      "Processing file: 2011.csv\n",
      "Processing file: 2012.csv\n",
      "Processing file: 2013.csv\n",
      "Processing file: 2014.csv\n",
      "Processing file: 2015.csv\n",
      "Processing file: 2016.csv\n",
      "Processing file: 2017.csv\n",
      "Processing file: 2018.csv\n",
      "Processing file: 2019.csv\n",
      "Processing file: 2020.csv\n",
      "Processing file: 2021.csv\n",
      "Processing file: 2022.csv\n",
      "Processing file: 2023.csv\n",
      "Processing file: 2024.csv\n",
      "Processing file: 2025.csv\n",
      "Combined dataset shape: (3061377, 31)\n"
     ]
    }
   ],
   "source": [
    "# Initialize an empty DataFrame for the combined data\n",
    "df = pd.DataFrame()\n",
    "\n",
    "# Loop through each file and combine them\n",
    "for file in csv_files:\n",
    "    file_path = os.path.join(folder_path, file)\n",
    "    print(f\"Processing file: {file}\")\n",
    "    \n",
    "    # Extract the year from the file name (e.g., \"2011.csv\" -> 2011)\n",
    "    year = int(file.split('.')[0])\n",
    "    \n",
    "    # Read the CSV file\n",
    "    data = pd.read_csv(file_path)\n",
    "    \n",
    "    # Add a 'year' column\n",
    "    data['year'] = year\n",
    "    \n",
    "    # Append the data to the combined DataFrame\n",
    "    df = pd.concat([df, data], ignore_index=True)\n",
    "\n",
    "# Verify the combined dataset\n",
    "print(f\"Combined dataset shape: {df.shape}\")\n"
   ]
  },
  {
   "cell_type": "code",
   "execution_count": 4,
   "id": "eba6d49d-2ee7-4696-94e9-a0428d068621",
   "metadata": {},
   "outputs": [
    {
     "name": "stdout",
     "output_type": "stream",
     "text": [
      "Combined dataset saved to: D:\\6980-Capstone\\Individual Project\\datasets\\df.csv\n"
     ]
    }
   ],
   "source": [
    "#save the file to path\n",
    "output_file = os.path.join(folder_path, \"df.csv\")\n",
    "df.to_csv(output_file, index=False)\n",
    "print(f\"Combined dataset saved to: {output_file}\")"
   ]
  },
  {
   "cell_type": "code",
   "execution_count": 5,
   "id": "0af6492b-f4ec-4014-8181-a1c8d14fe2c4",
   "metadata": {},
   "outputs": [
    {
     "name": "stdout",
     "output_type": "stream",
     "text": [
      "Total rows in the combined dataset: 3061377\n"
     ]
    }
   ],
   "source": [
    "# Path to the combined dataset\n",
    "combined_file_path = \"D:\\\\6980-Capstone\\\\Individual Project\\\\datasets\\\\df.csv\"\n",
    "\n",
    "# Read the combined dataset\n",
    "df = pd.read_csv(combined_file_path)\n",
    "\n",
    "# Check the total number of rows\n",
    "print(f\"Total rows in the combined dataset: {df.shape[0]}\")"
   ]
  },
  {
   "cell_type": "markdown",
   "id": "a2a9e0b3-38c5-4fbe-92d2-bb84fd9f7d27",
   "metadata": {
    "jp-MarkdownHeadingCollapsed": true
   },
   "source": [
    "# DATA CLEANING"
   ]
  },
  {
   "cell_type": "markdown",
   "id": "f1ea4a76-ebe7-4669-90c8-53a41dcf4081",
   "metadata": {},
   "source": [
    "\n",
    "CLOSURE_REASON - Employees give a closure status and then enter text indicating findings or work done to close a given case.\n",
    "\n",
    "CASE_TITLE - Title given to a case. Most titles are self-evident. This field is entered by call takers on a call-by-call basis.\n",
    "\n",
    "SUBJECT - Part of a case classification hierarchy (SUBJECT > REASON > TYPE) Subhect denotes which department a case is assigned to:\n",
    "\n",
    "REASON - Part of a case classification hierarchy (SUBJECT > REASON > TYPE). This is an overall ‘umbrella’ for a collection of similar case types.\n",
    "\n",
    "TYPE - Part of a case classification hierarchy (SUBJECT > REASON > TYPE). Individual case type entered by call taker.\n",
    "\n",
    "QUEUE - Queue a case is assigned to. There are multiple queues within many departments which reflect the nature of the case.\n",
    " \n",
    "Department - Department a case is assigned to. This value is derived from the first 4 digits of the queue column. For departmental information or descriptions see cityofboston.gov\n",
    "\n",
    "fire_district - BFD fire district case is within. There are 2 divisions and 9 districts. Division 1 is comprised of Districts 1, 3 (includes old district 2), 4, 6, and 11. Division 2 is comprised of\n",
    "Districts 7, 8, 9, and 12.\n",
    "\n",
    "city_council_district - City Council district a case falls within:\n",
    "\n",
    "police_district - Police district a case falls within\n",
    "\n",
    "neighborhood - Neighborhood relayed by caller and entered by call taker. There are redundancies and missing values within this field.\n",
    "\n",
    "\n",
    "neighborhood_services_district - districts under the Office of Neighborhood Services, a City of Boston office that “...encourages, facilitates and maximizes citizen input and participation in all aspects of government through service requests, neighborhood meetings, mailings, and emergency responses.”\n",
    "\n",
    "ward - Election ward a case falls within\n",
    " \n",
    "precinct - Election precinct a case falls within see: ward map (http://bit.ly/1BAMRTw)\n",
    "land_usage - Usage allowed for a given parcel of land. See: http://bit.ly/1EuKvoC\n",
    "\n",
    "\n",
    "LOCATION_ZIPCODE - Zip code a case falls within\n",
    "\n"
   ]
  },
  {
   "cell_type": "code",
   "execution_count": 8,
   "id": "e59c775d-3a1f-435f-8ea6-e166076ca2fc",
   "metadata": {},
   "outputs": [],
   "source": [
    "#load the combined dataset\n",
    "df = pd.read_csv(combined_file_path)"
   ]
  },
  {
   "cell_type": "code",
   "execution_count": 9,
   "id": "5b4da07a-0c47-4c2c-a548-4c17dfca1d61",
   "metadata": {},
   "outputs": [
    {
     "name": "stdout",
     "output_type": "stream",
     "text": [
      "Index(['case_enquiry_id', 'open_dt', 'sla_target_dt', 'closed_dt', 'on_time',\n",
      "       'case_status', 'closure_reason', 'case_title', 'subject', 'reason',\n",
      "       'type', 'queue', 'department', 'submitted_photo', 'closed_photo',\n",
      "       'location', 'fire_district', 'pwd_district', 'city_council_district',\n",
      "       'police_district', 'neighborhood', 'neighborhood_services_district',\n",
      "       'ward', 'precinct', 'location_street_name', 'location_zipcode',\n",
      "       'latitude', 'longitude', 'geom_4326', 'source', 'year'],\n",
      "      dtype='object')\n",
      "(3061377, 31)\n"
     ]
    }
   ],
   "source": [
    "print(df.columns)\n",
    "print(df.shape)"
   ]
  },
  {
   "cell_type": "code",
   "execution_count": 10,
   "id": "c5a0a59b-bb15-4840-a6b7-3efdc413795a",
   "metadata": {},
   "outputs": [
    {
     "data": {
      "text/html": [
       "<div>\n",
       "<style scoped>\n",
       "    .dataframe tbody tr th:only-of-type {\n",
       "        vertical-align: middle;\n",
       "    }\n",
       "\n",
       "    .dataframe tbody tr th {\n",
       "        vertical-align: top;\n",
       "    }\n",
       "\n",
       "    .dataframe thead th {\n",
       "        text-align: right;\n",
       "    }\n",
       "</style>\n",
       "<table border=\"1\" class=\"dataframe\">\n",
       "  <thead>\n",
       "    <tr style=\"text-align: right;\">\n",
       "      <th></th>\n",
       "      <th>case_enquiry_id</th>\n",
       "      <th>open_dt</th>\n",
       "      <th>sla_target_dt</th>\n",
       "      <th>closed_dt</th>\n",
       "      <th>on_time</th>\n",
       "      <th>case_status</th>\n",
       "      <th>closure_reason</th>\n",
       "      <th>case_title</th>\n",
       "      <th>subject</th>\n",
       "      <th>reason</th>\n",
       "      <th>...</th>\n",
       "      <th>neighborhood_services_district</th>\n",
       "      <th>ward</th>\n",
       "      <th>precinct</th>\n",
       "      <th>location_street_name</th>\n",
       "      <th>location_zipcode</th>\n",
       "      <th>latitude</th>\n",
       "      <th>longitude</th>\n",
       "      <th>geom_4326</th>\n",
       "      <th>source</th>\n",
       "      <th>year</th>\n",
       "    </tr>\n",
       "  </thead>\n",
       "  <tbody>\n",
       "    <tr>\n",
       "      <th>0</th>\n",
       "      <td>101000295613</td>\n",
       "      <td>2011-06-30 21:32:33</td>\n",
       "      <td>2011-07-14 21:32:32</td>\n",
       "      <td>2011-07-01 01:06:58</td>\n",
       "      <td>ONTIME</td>\n",
       "      <td>Closed</td>\n",
       "      <td>Case Closed Case Resolved replaced 100 amp fus...</td>\n",
       "      <td>Street Light Outages</td>\n",
       "      <td>Public Works Department</td>\n",
       "      <td>Street Lights</td>\n",
       "      <td>...</td>\n",
       "      <td>7</td>\n",
       "      <td>Ward 17</td>\n",
       "      <td>1714</td>\n",
       "      <td>INTERSECTION Groveland St &amp; River St</td>\n",
       "      <td>NaN</td>\n",
       "      <td>42.271544</td>\n",
       "      <td>-71.077221</td>\n",
       "      <td>0101000020E6100000CC4F6F30F1C451C0ADBC83F5C122...</td>\n",
       "      <td>Employee Generated</td>\n",
       "      <td>2011</td>\n",
       "    </tr>\n",
       "    <tr>\n",
       "      <th>1</th>\n",
       "      <td>101000295614</td>\n",
       "      <td>2011-06-30 22:18:31</td>\n",
       "      <td>2011-07-04 22:18:31</td>\n",
       "      <td>2011-07-01 02:12:43</td>\n",
       "      <td>ONTIME</td>\n",
       "      <td>Closed</td>\n",
       "      <td>Case Closed Case Scheduled Items have been sch...</td>\n",
       "      <td>Schedule a Bulk Item Pickup</td>\n",
       "      <td>Public Works Department</td>\n",
       "      <td>Sanitation</td>\n",
       "      <td>...</td>\n",
       "      <td>10</td>\n",
       "      <td>Ward 20</td>\n",
       "      <td>2008</td>\n",
       "      <td>39 Lorraine St</td>\n",
       "      <td>2131.0</td>\n",
       "      <td>42.283850</td>\n",
       "      <td>-71.144741</td>\n",
       "      <td>0101000020E6100000C960F36E43C951C06CE46A2F5524...</td>\n",
       "      <td>Self Service</td>\n",
       "      <td>2011</td>\n",
       "    </tr>\n",
       "    <tr>\n",
       "      <th>2</th>\n",
       "      <td>101000295615</td>\n",
       "      <td>2011-06-30 22:28:04</td>\n",
       "      <td>2011-08-14 22:28:04</td>\n",
       "      <td>2011-08-01 11:21:46</td>\n",
       "      <td>ONTIME</td>\n",
       "      <td>Closed</td>\n",
       "      <td>Case Closed Case Resolved No Sidewalk and poor...</td>\n",
       "      <td>New Sign  Crosswalk or Pavement Marking</td>\n",
       "      <td>Transportation - Traffic Division</td>\n",
       "      <td>Signs &amp; Signals</td>\n",
       "      <td>...</td>\n",
       "      <td>12</td>\n",
       "      <td>Ward 20</td>\n",
       "      <td>2017</td>\n",
       "      <td>INTERSECTION Corey St &amp; Lagrange St</td>\n",
       "      <td>NaN</td>\n",
       "      <td>42.300278</td>\n",
       "      <td>-71.169805</td>\n",
       "      <td>0101000020E6100000B311E014DECA51C0A1102F826F26...</td>\n",
       "      <td>Self Service</td>\n",
       "      <td>2011</td>\n",
       "    </tr>\n",
       "    <tr>\n",
       "      <th>3</th>\n",
       "      <td>101000295616</td>\n",
       "      <td>2011-06-30 23:03:48</td>\n",
       "      <td>2011-07-14 23:03:48</td>\n",
       "      <td>2011-07-22 12:13:45</td>\n",
       "      <td>OVERDUE</td>\n",
       "      <td>Closed</td>\n",
       "      <td>Case Closed Case Resolved completed</td>\n",
       "      <td>Street Light Outages</td>\n",
       "      <td>Public Works Department</td>\n",
       "      <td>Street Lights</td>\n",
       "      <td>...</td>\n",
       "      <td>10</td>\n",
       "      <td>Ward 18</td>\n",
       "      <td>1816</td>\n",
       "      <td>235 Fairmount Ave</td>\n",
       "      <td>2136.0</td>\n",
       "      <td>42.249640</td>\n",
       "      <td>-71.115631</td>\n",
       "      <td>0101000020E61000003219CE7E66C751C0DDF2D930F41F...</td>\n",
       "      <td>Self Service</td>\n",
       "      <td>2011</td>\n",
       "    </tr>\n",
       "    <tr>\n",
       "      <th>4</th>\n",
       "      <td>101000295617</td>\n",
       "      <td>2011-06-30 23:12:31</td>\n",
       "      <td>NaN</td>\n",
       "      <td>2011-07-01 02:12:38</td>\n",
       "      <td>ONTIME</td>\n",
       "      <td>Closed</td>\n",
       "      <td>Case Closed Case Resolved</td>\n",
       "      <td>Highway Maintenance</td>\n",
       "      <td>Public Works Department</td>\n",
       "      <td>Highway Maintenance</td>\n",
       "      <td>...</td>\n",
       "      <td>7</td>\n",
       "      <td>Ward 13</td>\n",
       "      <td>1309</td>\n",
       "      <td>INTERSECTION Dorchester Ave &amp; Hallam St</td>\n",
       "      <td>NaN</td>\n",
       "      <td>42.314436</td>\n",
       "      <td>-71.056878</td>\n",
       "      <td>0101000020E6100000615079E5A3C351C0C71CEA6D3F28...</td>\n",
       "      <td>Constituent Call</td>\n",
       "      <td>2011</td>\n",
       "    </tr>\n",
       "  </tbody>\n",
       "</table>\n",
       "<p>5 rows × 31 columns</p>\n",
       "</div>"
      ],
      "text/plain": [
       "   case_enquiry_id              open_dt        sla_target_dt  \\\n",
       "0     101000295613  2011-06-30 21:32:33  2011-07-14 21:32:32   \n",
       "1     101000295614  2011-06-30 22:18:31  2011-07-04 22:18:31   \n",
       "2     101000295615  2011-06-30 22:28:04  2011-08-14 22:28:04   \n",
       "3     101000295616  2011-06-30 23:03:48  2011-07-14 23:03:48   \n",
       "4     101000295617  2011-06-30 23:12:31                  NaN   \n",
       "\n",
       "             closed_dt  on_time case_status  \\\n",
       "0  2011-07-01 01:06:58   ONTIME      Closed   \n",
       "1  2011-07-01 02:12:43   ONTIME      Closed   \n",
       "2  2011-08-01 11:21:46   ONTIME      Closed   \n",
       "3  2011-07-22 12:13:45  OVERDUE      Closed   \n",
       "4  2011-07-01 02:12:38   ONTIME      Closed   \n",
       "\n",
       "                                      closure_reason  \\\n",
       "0  Case Closed Case Resolved replaced 100 amp fus...   \n",
       "1  Case Closed Case Scheduled Items have been sch...   \n",
       "2  Case Closed Case Resolved No Sidewalk and poor...   \n",
       "3               Case Closed Case Resolved completed    \n",
       "4                         Case Closed Case Resolved    \n",
       "\n",
       "                                case_title                            subject  \\\n",
       "0                     Street Light Outages            Public Works Department   \n",
       "1              Schedule a Bulk Item Pickup            Public Works Department   \n",
       "2  New Sign  Crosswalk or Pavement Marking  Transportation - Traffic Division   \n",
       "3                     Street Light Outages            Public Works Department   \n",
       "4                      Highway Maintenance            Public Works Department   \n",
       "\n",
       "                reason  ... neighborhood_services_district     ward precinct  \\\n",
       "0        Street Lights  ...                              7  Ward 17     1714   \n",
       "1           Sanitation  ...                             10  Ward 20     2008   \n",
       "2      Signs & Signals  ...                             12  Ward 20     2017   \n",
       "3        Street Lights  ...                             10  Ward 18     1816   \n",
       "4  Highway Maintenance  ...                              7  Ward 13     1309   \n",
       "\n",
       "                      location_street_name location_zipcode   latitude  \\\n",
       "0     INTERSECTION Groveland St & River St              NaN  42.271544   \n",
       "1                           39 Lorraine St           2131.0  42.283850   \n",
       "2      INTERSECTION Corey St & Lagrange St              NaN  42.300278   \n",
       "3                        235 Fairmount Ave           2136.0  42.249640   \n",
       "4  INTERSECTION Dorchester Ave & Hallam St              NaN  42.314436   \n",
       "\n",
       "   longitude                                          geom_4326  \\\n",
       "0 -71.077221  0101000020E6100000CC4F6F30F1C451C0ADBC83F5C122...   \n",
       "1 -71.144741  0101000020E6100000C960F36E43C951C06CE46A2F5524...   \n",
       "2 -71.169805  0101000020E6100000B311E014DECA51C0A1102F826F26...   \n",
       "3 -71.115631  0101000020E61000003219CE7E66C751C0DDF2D930F41F...   \n",
       "4 -71.056878  0101000020E6100000615079E5A3C351C0C71CEA6D3F28...   \n",
       "\n",
       "               source  year  \n",
       "0  Employee Generated  2011  \n",
       "1        Self Service  2011  \n",
       "2        Self Service  2011  \n",
       "3        Self Service  2011  \n",
       "4    Constituent Call  2011  \n",
       "\n",
       "[5 rows x 31 columns]"
      ]
     },
     "execution_count": 10,
     "metadata": {},
     "output_type": "execute_result"
    }
   ],
   "source": [
    "df.head()"
   ]
  },
  {
   "cell_type": "code",
   "execution_count": 11,
   "id": "b8e244a7-ee8c-4f17-b72e-e7c4bbc0b5e3",
   "metadata": {},
   "outputs": [
    {
     "name": "stdout",
     "output_type": "stream",
     "text": [
      "case_enquiry_id                           object\n",
      "open_dt                           datetime64[ns]\n",
      "sla_target_dt                     datetime64[ns]\n",
      "closed_dt                         datetime64[ns]\n",
      "on_time                                 category\n",
      "case_status                               object\n",
      "closure_reason                            object\n",
      "case_title                                object\n",
      "subject                                   object\n",
      "reason                                    object\n",
      "type                                      object\n",
      "queue                                     object\n",
      "department                                object\n",
      "submitted_photo                           object\n",
      "closed_photo                              object\n",
      "location                                  object\n",
      "fire_district                             object\n",
      "pwd_district                              object\n",
      "city_council_district                     object\n",
      "police_district                           object\n",
      "neighborhood                              object\n",
      "neighborhood_services_district            object\n",
      "ward                                      object\n",
      "precinct                                  object\n",
      "location_street_name                      object\n",
      "location_zipcode                         float64\n",
      "latitude                                 float64\n",
      "longitude                                float64\n",
      "geom_4326                                 object\n",
      "source                                    object\n",
      "year                                    category\n",
      "dtype: object\n"
     ]
    }
   ],
   "source": [
    "# Convert 'open_dt', 'sla_target_dt', and 'closed_dt' to datetime\n",
    "df['open_dt'] = pd.to_datetime(df['open_dt'])\n",
    "df['sla_target_dt'] = pd.to_datetime(df['sla_target_dt'])\n",
    "df['closed_dt'] = pd.to_datetime(df['closed_dt'])\n",
    "df['case_enquiry_id'] = df['case_enquiry_id'].astype('object')  # ID should not be numerical\n",
    "df['on_time'] = df['on_time'].astype('category')  # Only 2 possible values\n",
    "df['year'] = df['year'].astype('category')  # If not used in numerical operations\n",
    "\n",
    "# Verify the changes\n",
    "print(df.dtypes)"
   ]
  },
  {
   "cell_type": "markdown",
   "id": "7ec00160-c2b6-44da-9dfd-49f8158e2b98",
   "metadata": {},
   "source": [
    "## Removing unnecessary columns"
   ]
  },
  {
   "cell_type": "code",
   "execution_count": 15,
   "id": "53df42ae-ff5c-4b40-a6d2-95ed131c0fff",
   "metadata": {},
   "outputs": [],
   "source": [
    "#removing unnecessary columns\n",
    "drop_col = ['submitted_photo', 'closed_photo', 'geom_4326']\n",
    "df.drop(columns=drop_col, inplace=True)"
   ]
  },
  {
   "cell_type": "code",
   "execution_count": 16,
   "id": "a81d74e4-4a64-4001-abd7-d498a6f882dc",
   "metadata": {},
   "outputs": [
    {
     "data": {
      "text/plain": [
       "(3061377, 28)"
      ]
     },
     "execution_count": 16,
     "metadata": {},
     "output_type": "execute_result"
    }
   ],
   "source": [
    "df.shape"
   ]
  },
  {
   "cell_type": "markdown",
   "id": "118ad4f8-6122-40ca-ba03-e903929a70a1",
   "metadata": {},
   "source": [
    "## Handling Null Values"
   ]
  },
  {
   "cell_type": "code",
   "execution_count": 18,
   "id": "89a3b754-111d-4a02-911b-f76b7e275060",
   "metadata": {
    "scrolled": true
   },
   "outputs": [
    {
     "name": "stdout",
     "output_type": "stream",
     "text": [
      "case_enquiry_id                    0.000000\n",
      "open_dt                            0.000000\n",
      "sla_target_dt                     14.578701\n",
      "closed_dt                          7.878742\n",
      "on_time                            0.021918\n",
      "case_status                        0.000000\n",
      "closure_reason                     0.000000\n",
      "case_title                         0.020677\n",
      "subject                            0.000000\n",
      "reason                             0.000000\n",
      "type                               0.000000\n",
      "queue                              0.000000\n",
      "department                         0.000000\n",
      "location                           0.000000\n",
      "fire_district                      0.203895\n",
      "pwd_district                       0.047560\n",
      "city_council_district              0.010028\n",
      "police_district                    0.038316\n",
      "neighborhood                       0.096395\n",
      "neighborhood_services_district     0.010224\n",
      "ward                               0.005880\n",
      "precinct                           0.061084\n",
      "location_street_name               1.906626\n",
      "location_zipcode                  22.653727\n",
      "latitude                           1.532938\n",
      "longitude                          1.532938\n",
      "source                             0.000000\n",
      "year                               0.000000\n",
      "dtype: float64\n"
     ]
    }
   ],
   "source": [
    "check_null = df.isnull().sum()\n",
    "nullpercent = check_null/len(df)* 100\n",
    "print(nullpercent)"
   ]
  },
  {
   "cell_type": "markdown",
   "id": "984f10bf-08ff-4072-a37d-9508aa5b6eb2",
   "metadata": {},
   "source": [
    "### Dropping records for columns with < 5% null values"
   ]
  },
  {
   "cell_type": "code",
   "execution_count": 20,
   "id": "b1f802bd-81bb-403d-9b5a-e76c8192e54b",
   "metadata": {},
   "outputs": [],
   "source": [
    "col_to_drop = ['on_time', 'case_title', 'fire_district', 'pwd_district', 'city_council_district', \n",
    "'police_district', 'neighborhood', 'neighborhood_services_district', \n",
    "'ward', 'precinct', 'location_street_name', 'latitude', 'longitude']\n",
    "\n",
    "df.dropna(subset=col_to_drop, inplace=True)"
   ]
  },
  {
   "cell_type": "code",
   "execution_count": 21,
   "id": "9d69c381-c33e-4c38-80b0-ed011d792d75",
   "metadata": {},
   "outputs": [
    {
     "data": {
      "text/plain": [
       "(2991803, 28)"
      ]
     },
     "execution_count": 21,
     "metadata": {},
     "output_type": "execute_result"
    }
   ],
   "source": [
    "df.shape"
   ]
  },
  {
   "cell_type": "markdown",
   "id": "21f3f665-ddc4-4738-b716-bcd2846a1016",
   "metadata": {},
   "source": [
    "### Handling sla_target_dt missing values"
   ]
  },
  {
   "cell_type": "code",
   "execution_count": 23,
   "id": "f3c35c21-74d2-4bbf-b15e-fb6a46fac7a0",
   "metadata": {},
   "outputs": [
    {
     "name": "stdout",
     "output_type": "stream",
     "text": [
      "case_enquiry_id                    0.000000\n",
      "open_dt                            0.000000\n",
      "sla_target_dt                     14.534747\n",
      "closed_dt                          7.466133\n",
      "on_time                            0.000000\n",
      "case_status                        0.000000\n",
      "closure_reason                     0.000000\n",
      "case_title                         0.000000\n",
      "subject                            0.000000\n",
      "reason                             0.000000\n",
      "type                               0.000000\n",
      "queue                              0.000000\n",
      "department                         0.000000\n",
      "location                           0.000000\n",
      "fire_district                      0.000000\n",
      "pwd_district                       0.000000\n",
      "city_council_district              0.000000\n",
      "police_district                    0.000000\n",
      "neighborhood                       0.000000\n",
      "neighborhood_services_district     0.000000\n",
      "ward                               0.000000\n",
      "precinct                           0.000000\n",
      "location_street_name               0.000000\n",
      "location_zipcode                  21.051085\n",
      "latitude                           0.000000\n",
      "longitude                          0.000000\n",
      "source                             0.000000\n",
      "year                               0.000000\n",
      "dtype: float64\n"
     ]
    }
   ],
   "source": [
    "check_null = df.isnull().sum()\n",
    "nullpercent = check_null/len(df)* 100\n",
    "print(nullpercent)"
   ]
  },
  {
   "cell_type": "code",
   "execution_count": 24,
   "id": "0458b42b-1685-4ea3-b5ed-55c3e843659b",
   "metadata": {},
   "outputs": [
    {
     "name": "stdout",
     "output_type": "stream",
     "text": [
      "                                              case_title  sla_duration\n",
      "7665                                           Light out       17633.0\n",
      "99        102 Tyler st Dug up conduit. Repair as needed.       17633.0\n",
      "153    79 Howland St. Roxbury Mass.---Light out at th...       17632.0\n",
      "23632  Street Light Outages  ( Printed ) MBTA FLAGMAN...       13504.0\n",
      "8513                  Maximo WorkOrder 396629 suspended        13489.0\n",
      "...                                                  ...           ...\n",
      "28921           tighten composite cover bolts////printed           NaN\n",
      "28930                                   trash collection           NaN\n",
      "28936                                      two bluebikes           NaN\n",
      "28945                              utility patch cut out           NaN\n",
      "28966                            wooden pole/reallocated           NaN\n",
      "\n",
      "[28968 rows x 2 columns]\n"
     ]
    }
   ],
   "source": [
    "# Calculate SLA duration for each case_title\n",
    "df['sla_duration'] = (df['sla_target_dt'] - df['open_dt']).dt.days\n",
    "\n",
    "# Group by case_title and calculate average SLA duration\n",
    "case_title_sla = df.groupby('case_title')['sla_duration'].mean().reset_index()\n",
    "\n",
    "# Display the relationship\n",
    "print(case_title_sla.sort_values(by='sla_duration', ascending=False))\n"
   ]
  },
  {
   "cell_type": "code",
   "execution_count": 25,
   "id": "ea6bc98d-2461-4f99-8524-4556e6b92bd0",
   "metadata": {},
   "outputs": [],
   "source": [
    "def impute_sla_target_dt(row):\n",
    "    if pd.isnull(row['sla_target_dt']):\n",
    "        # Get the average sla_duration for the case_title\n",
    "        matching_rows = case_title_sla.loc[case_title_sla['case_title'] == row['case_title']]\n",
    "        \n",
    "        if not matching_rows.empty and not pd.isnull(matching_rows['sla_duration'].iloc[0]):\n",
    "            avg_duration = matching_rows['sla_duration'].iloc[0]\n",
    "            # Calculate the imputed sla_target_dt\n",
    "            imputed_sla_target_dt = row['open_dt'] + pd.Timedelta(days=avg_duration)\n",
    "            return imputed_sla_target_dt\n",
    "        else:\n",
    "            # Handle the case when no matching case_title or sla_duration is NaN\n",
    "            # You could use a default duration or handle it in another way\n",
    "            default_duration = 14  # Example default duration in days\n",
    "            imputed_sla_target_dt = row['open_dt'] + pd.Timedelta(days=default_duration)\n",
    "            return imputed_sla_target_dt\n",
    "    else:\n",
    "        return row['sla_target_dt']\n",
    "\n",
    "# Apply the imputation function\n",
    "df['sla_target_dt'] = df.apply(impute_sla_target_dt, axis=1)\n"
   ]
  },
  {
   "cell_type": "code",
   "execution_count": 26,
   "id": "e2a924f1-7c13-4b5a-ba05-21ab983c269f",
   "metadata": {},
   "outputs": [
    {
     "name": "stdout",
     "output_type": "stream",
     "text": [
      "0.0\n"
     ]
    }
   ],
   "source": [
    "check_null_sla = df['sla_target_dt'].isnull().sum()\n",
    "nullpercent_sla = check_null_sla/len(df)* 100\n",
    "print(nullpercent_sla)"
   ]
  },
  {
   "cell_type": "markdown",
   "id": "b8996b64-8e96-4ada-8ad2-0955de1e1a43",
   "metadata": {},
   "source": [
    "### Handling closed_dt column missing values"
   ]
  },
  {
   "cell_type": "code",
   "execution_count": 28,
   "id": "b1185eb7-546d-40d8-ae67-693939607304",
   "metadata": {},
   "outputs": [],
   "source": [
    "# Calculate the average time difference for closed_dt\n",
    "time_diff = (df['closed_dt'] - df['open_dt']).dropna().mean()\n",
    "\n",
    "# Function to impute missing closed_dt values\n",
    "def impute_closed_dt(row):\n",
    "    if pd.isnull(row['closed_dt']):\n",
    "        imputed_closed_dt = row['open_dt'] + time_diff\n",
    "        return imputed_closed_dt\n",
    "    else:\n",
    "        return row['closed_dt']\n",
    "\n",
    "# Apply the imputation function\n",
    "df['closed_dt'] = df.apply(impute_closed_dt, axis=1)\n"
   ]
  },
  {
   "cell_type": "code",
   "execution_count": 29,
   "id": "2a3aa63c-3140-4b32-bc52-b01192c676cd",
   "metadata": {},
   "outputs": [
    {
     "name": "stdout",
     "output_type": "stream",
     "text": [
      "0.0\n"
     ]
    }
   ],
   "source": [
    "check_null_cdate = df['closed_dt'].isnull().sum()\n",
    "nullpercent_cdate = check_null_cdate/len(df)* 100\n",
    "print(nullpercent_cdate)"
   ]
  },
  {
   "cell_type": "code",
   "execution_count": 30,
   "id": "89e0b1e5-465e-4bf6-9685-a5c0a9b2ff8e",
   "metadata": {},
   "outputs": [
    {
     "data": {
      "text/html": [
       "<div>\n",
       "<style scoped>\n",
       "    .dataframe tbody tr th:only-of-type {\n",
       "        vertical-align: middle;\n",
       "    }\n",
       "\n",
       "    .dataframe tbody tr th {\n",
       "        vertical-align: top;\n",
       "    }\n",
       "\n",
       "    .dataframe thead th {\n",
       "        text-align: right;\n",
       "    }\n",
       "</style>\n",
       "<table border=\"1\" class=\"dataframe\">\n",
       "  <thead>\n",
       "    <tr style=\"text-align: right;\">\n",
       "      <th></th>\n",
       "      <th>case_enquiry_id</th>\n",
       "      <th>open_dt</th>\n",
       "      <th>sla_target_dt</th>\n",
       "      <th>closed_dt</th>\n",
       "      <th>on_time</th>\n",
       "      <th>case_status</th>\n",
       "      <th>closure_reason</th>\n",
       "      <th>case_title</th>\n",
       "      <th>subject</th>\n",
       "      <th>reason</th>\n",
       "      <th>...</th>\n",
       "      <th>neighborhood_services_district</th>\n",
       "      <th>ward</th>\n",
       "      <th>precinct</th>\n",
       "      <th>location_street_name</th>\n",
       "      <th>location_zipcode</th>\n",
       "      <th>latitude</th>\n",
       "      <th>longitude</th>\n",
       "      <th>source</th>\n",
       "      <th>year</th>\n",
       "      <th>sla_duration</th>\n",
       "    </tr>\n",
       "  </thead>\n",
       "  <tbody>\n",
       "    <tr>\n",
       "      <th>0</th>\n",
       "      <td>101000295613</td>\n",
       "      <td>2011-06-30 21:32:33</td>\n",
       "      <td>2011-07-14 21:32:32.000000000</td>\n",
       "      <td>2011-07-01 01:06:58</td>\n",
       "      <td>ONTIME</td>\n",
       "      <td>Closed</td>\n",
       "      <td>Case Closed Case Resolved replaced 100 amp fus...</td>\n",
       "      <td>Street Light Outages</td>\n",
       "      <td>Public Works Department</td>\n",
       "      <td>Street Lights</td>\n",
       "      <td>...</td>\n",
       "      <td>7</td>\n",
       "      <td>Ward 17</td>\n",
       "      <td>1714</td>\n",
       "      <td>INTERSECTION Groveland St &amp; River St</td>\n",
       "      <td>NaN</td>\n",
       "      <td>42.271544</td>\n",
       "      <td>-71.077221</td>\n",
       "      <td>Employee Generated</td>\n",
       "      <td>2011</td>\n",
       "      <td>13.0</td>\n",
       "    </tr>\n",
       "    <tr>\n",
       "      <th>1</th>\n",
       "      <td>101000295614</td>\n",
       "      <td>2011-06-30 22:18:31</td>\n",
       "      <td>2011-07-04 22:18:31.000000000</td>\n",
       "      <td>2011-07-01 02:12:43</td>\n",
       "      <td>ONTIME</td>\n",
       "      <td>Closed</td>\n",
       "      <td>Case Closed Case Scheduled Items have been sch...</td>\n",
       "      <td>Schedule a Bulk Item Pickup</td>\n",
       "      <td>Public Works Department</td>\n",
       "      <td>Sanitation</td>\n",
       "      <td>...</td>\n",
       "      <td>10</td>\n",
       "      <td>Ward 20</td>\n",
       "      <td>2008</td>\n",
       "      <td>39 Lorraine St</td>\n",
       "      <td>2131.0</td>\n",
       "      <td>42.283850</td>\n",
       "      <td>-71.144741</td>\n",
       "      <td>Self Service</td>\n",
       "      <td>2011</td>\n",
       "      <td>4.0</td>\n",
       "    </tr>\n",
       "    <tr>\n",
       "      <th>3</th>\n",
       "      <td>101000295616</td>\n",
       "      <td>2011-06-30 23:03:48</td>\n",
       "      <td>2011-07-14 23:03:48.000000000</td>\n",
       "      <td>2011-07-22 12:13:45</td>\n",
       "      <td>OVERDUE</td>\n",
       "      <td>Closed</td>\n",
       "      <td>Case Closed Case Resolved completed</td>\n",
       "      <td>Street Light Outages</td>\n",
       "      <td>Public Works Department</td>\n",
       "      <td>Street Lights</td>\n",
       "      <td>...</td>\n",
       "      <td>10</td>\n",
       "      <td>Ward 18</td>\n",
       "      <td>1816</td>\n",
       "      <td>235 Fairmount Ave</td>\n",
       "      <td>2136.0</td>\n",
       "      <td>42.249640</td>\n",
       "      <td>-71.115631</td>\n",
       "      <td>Self Service</td>\n",
       "      <td>2011</td>\n",
       "      <td>14.0</td>\n",
       "    </tr>\n",
       "    <tr>\n",
       "      <th>4</th>\n",
       "      <td>101000295617</td>\n",
       "      <td>2011-06-30 23:12:31</td>\n",
       "      <td>2011-07-26 05:31:27.842105263</td>\n",
       "      <td>2011-07-01 02:12:38</td>\n",
       "      <td>ONTIME</td>\n",
       "      <td>Closed</td>\n",
       "      <td>Case Closed Case Resolved</td>\n",
       "      <td>Highway Maintenance</td>\n",
       "      <td>Public Works Department</td>\n",
       "      <td>Highway Maintenance</td>\n",
       "      <td>...</td>\n",
       "      <td>7</td>\n",
       "      <td>Ward 13</td>\n",
       "      <td>1309</td>\n",
       "      <td>INTERSECTION Dorchester Ave &amp; Hallam St</td>\n",
       "      <td>NaN</td>\n",
       "      <td>42.314436</td>\n",
       "      <td>-71.056878</td>\n",
       "      <td>Constituent Call</td>\n",
       "      <td>2011</td>\n",
       "      <td>NaN</td>\n",
       "    </tr>\n",
       "    <tr>\n",
       "      <th>5</th>\n",
       "      <td>101000295618</td>\n",
       "      <td>2011-06-30 23:43:07</td>\n",
       "      <td>2011-07-01 11:43:07.000000000</td>\n",
       "      <td>2011-07-05 05:16:10</td>\n",
       "      <td>ONTIME</td>\n",
       "      <td>Closed</td>\n",
       "      <td>Case Closed Case Noted</td>\n",
       "      <td>Notification</td>\n",
       "      <td>Mayor's 24 Hour Hotline</td>\n",
       "      <td>Notification</td>\n",
       "      <td>...</td>\n",
       "      <td>11</td>\n",
       "      <td>Ward 10</td>\n",
       "      <td>1006</td>\n",
       "      <td>7 Edge Hill St</td>\n",
       "      <td>2130.0</td>\n",
       "      <td>42.324290</td>\n",
       "      <td>-71.106031</td>\n",
       "      <td>Constituent Call</td>\n",
       "      <td>2011</td>\n",
       "      <td>NaN</td>\n",
       "    </tr>\n",
       "  </tbody>\n",
       "</table>\n",
       "<p>5 rows × 29 columns</p>\n",
       "</div>"
      ],
      "text/plain": [
       "  case_enquiry_id             open_dt                 sla_target_dt  \\\n",
       "0    101000295613 2011-06-30 21:32:33 2011-07-14 21:32:32.000000000   \n",
       "1    101000295614 2011-06-30 22:18:31 2011-07-04 22:18:31.000000000   \n",
       "3    101000295616 2011-06-30 23:03:48 2011-07-14 23:03:48.000000000   \n",
       "4    101000295617 2011-06-30 23:12:31 2011-07-26 05:31:27.842105263   \n",
       "5    101000295618 2011-06-30 23:43:07 2011-07-01 11:43:07.000000000   \n",
       "\n",
       "            closed_dt  on_time case_status  \\\n",
       "0 2011-07-01 01:06:58   ONTIME      Closed   \n",
       "1 2011-07-01 02:12:43   ONTIME      Closed   \n",
       "3 2011-07-22 12:13:45  OVERDUE      Closed   \n",
       "4 2011-07-01 02:12:38   ONTIME      Closed   \n",
       "5 2011-07-05 05:16:10   ONTIME      Closed   \n",
       "\n",
       "                                      closure_reason  \\\n",
       "0  Case Closed Case Resolved replaced 100 amp fus...   \n",
       "1  Case Closed Case Scheduled Items have been sch...   \n",
       "3               Case Closed Case Resolved completed    \n",
       "4                         Case Closed Case Resolved    \n",
       "5                            Case Closed Case Noted    \n",
       "\n",
       "                    case_title                  subject               reason  \\\n",
       "0         Street Light Outages  Public Works Department        Street Lights   \n",
       "1  Schedule a Bulk Item Pickup  Public Works Department           Sanitation   \n",
       "3         Street Light Outages  Public Works Department        Street Lights   \n",
       "4          Highway Maintenance  Public Works Department  Highway Maintenance   \n",
       "5                 Notification  Mayor's 24 Hour Hotline         Notification   \n",
       "\n",
       "   ... neighborhood_services_district     ward precinct  \\\n",
       "0  ...                              7  Ward 17     1714   \n",
       "1  ...                             10  Ward 20     2008   \n",
       "3  ...                             10  Ward 18     1816   \n",
       "4  ...                              7  Ward 13     1309   \n",
       "5  ...                             11  Ward 10     1006   \n",
       "\n",
       "                      location_street_name location_zipcode   latitude  \\\n",
       "0     INTERSECTION Groveland St & River St              NaN  42.271544   \n",
       "1                           39 Lorraine St           2131.0  42.283850   \n",
       "3                        235 Fairmount Ave           2136.0  42.249640   \n",
       "4  INTERSECTION Dorchester Ave & Hallam St              NaN  42.314436   \n",
       "5                           7 Edge Hill St           2130.0  42.324290   \n",
       "\n",
       "   longitude              source  year sla_duration  \n",
       "0 -71.077221  Employee Generated  2011         13.0  \n",
       "1 -71.144741        Self Service  2011          4.0  \n",
       "3 -71.115631        Self Service  2011         14.0  \n",
       "4 -71.056878    Constituent Call  2011          NaN  \n",
       "5 -71.106031    Constituent Call  2011          NaN  \n",
       "\n",
       "[5 rows x 29 columns]"
      ]
     },
     "execution_count": 30,
     "metadata": {},
     "output_type": "execute_result"
    }
   ],
   "source": [
    "df.head()"
   ]
  },
  {
   "cell_type": "markdown",
   "id": "6b4df936-af45-4b81-90f1-2ca6074fc7cc",
   "metadata": {
    "jp-MarkdownHeadingCollapsed": true
   },
   "source": [
    "# Geocoding"
   ]
  },
  {
   "cell_type": "code",
   "execution_count": 32,
   "id": "d04c9c64-7cc4-464e-8e19-d48a8b84a16c",
   "metadata": {},
   "outputs": [
    {
     "name": "stdout",
     "output_type": "stream",
     "text": [
      "  case_enquiry_id             open_dt                 sla_target_dt  \\\n",
      "0    101000295613 2011-06-30 21:32:33 2011-07-14 21:32:32.000000000   \n",
      "1    101000295614 2011-06-30 22:18:31 2011-07-04 22:18:31.000000000   \n",
      "3    101000295616 2011-06-30 23:03:48 2011-07-14 23:03:48.000000000   \n",
      "4    101000295617 2011-06-30 23:12:31 2011-07-26 05:31:27.842105263   \n",
      "5    101000295618 2011-06-30 23:43:07 2011-07-01 11:43:07.000000000   \n",
      "\n",
      "            closed_dt  on_time case_status  \\\n",
      "0 2011-07-01 01:06:58   ONTIME      Closed   \n",
      "1 2011-07-01 02:12:43   ONTIME      Closed   \n",
      "3 2011-07-22 12:13:45  OVERDUE      Closed   \n",
      "4 2011-07-01 02:12:38   ONTIME      Closed   \n",
      "5 2011-07-05 05:16:10   ONTIME      Closed   \n",
      "\n",
      "                                      closure_reason  \\\n",
      "0  Case Closed Case Resolved replaced 100 amp fus...   \n",
      "1  Case Closed Case Scheduled Items have been sch...   \n",
      "3               Case Closed Case Resolved completed    \n",
      "4                         Case Closed Case Resolved    \n",
      "5                            Case Closed Case Noted    \n",
      "\n",
      "                    case_title                  subject               reason  \\\n",
      "0         Street Light Outages  Public Works Department        Street Lights   \n",
      "1  Schedule a Bulk Item Pickup  Public Works Department           Sanitation   \n",
      "3         Street Light Outages  Public Works Department        Street Lights   \n",
      "4          Highway Maintenance  Public Works Department  Highway Maintenance   \n",
      "5                 Notification  Mayor's 24 Hour Hotline         Notification   \n",
      "\n",
      "   ...     ward precinct                     location_street_name  \\\n",
      "0  ...  Ward 17     1714     INTERSECTION Groveland St & River St   \n",
      "1  ...  Ward 20     2008                           39 Lorraine St   \n",
      "3  ...  Ward 18     1816                        235 Fairmount Ave   \n",
      "4  ...  Ward 13     1309  INTERSECTION Dorchester Ave & Hallam St   \n",
      "5  ...  Ward 10     1006                           7 Edge Hill St   \n",
      "\n",
      "  location_zipcode   latitude  longitude              source  year  \\\n",
      "0              NaN  42.271544 -71.077221  Employee Generated  2011   \n",
      "1           2131.0  42.283850 -71.144741        Self Service  2011   \n",
      "3           2136.0  42.249640 -71.115631        Self Service  2011   \n",
      "4              NaN  42.314436 -71.056878    Constituent Call  2011   \n",
      "5           2130.0  42.324290 -71.106031    Constituent Call  2011   \n",
      "\n",
      "  sla_duration                    geometry  \n",
      "0         13.0  POINT (-71.07722 42.27154)  \n",
      "1          4.0  POINT (-71.14474 42.28385)  \n",
      "3         14.0  POINT (-71.11563 42.24964)  \n",
      "4          NaN  POINT (-71.05688 42.31444)  \n",
      "5          NaN  POINT (-71.10603 42.32429)  \n",
      "\n",
      "[5 rows x 30 columns]\n"
     ]
    }
   ],
   "source": [
    "import geopandas as gpd\n",
    "\n",
    "# Assuming df is your DataFrame with latitude and longitude columns\n",
    "\n",
    "# Create a GeoDataFrame\n",
    "gdf = gpd.GeoDataFrame(\n",
    "    df,\n",
    "    geometry=gpd.points_from_xy(df.longitude, df.latitude),\n",
    "    crs=\"EPSG:4326\"\n",
    ")\n",
    "\n",
    "# Now gdf is a GeoDataFrame with geometry column\n",
    "print(gdf.head())\n"
   ]
  },
  {
   "cell_type": "code",
   "execution_count": 33,
   "id": "9d76b020-dfd2-480e-93c7-dd06d31873d4",
   "metadata": {},
   "outputs": [
    {
     "data": {
      "text/html": [
       "<div>\n",
       "<style scoped>\n",
       "    .dataframe tbody tr th:only-of-type {\n",
       "        vertical-align: middle;\n",
       "    }\n",
       "\n",
       "    .dataframe tbody tr th {\n",
       "        vertical-align: top;\n",
       "    }\n",
       "\n",
       "    .dataframe thead th {\n",
       "        text-align: right;\n",
       "    }\n",
       "</style>\n",
       "<table border=\"1\" class=\"dataframe\">\n",
       "  <thead>\n",
       "    <tr style=\"text-align: right;\">\n",
       "      <th></th>\n",
       "      <th>case_enquiry_id</th>\n",
       "      <th>open_dt</th>\n",
       "      <th>sla_target_dt</th>\n",
       "      <th>closed_dt</th>\n",
       "      <th>on_time</th>\n",
       "      <th>case_status</th>\n",
       "      <th>closure_reason</th>\n",
       "      <th>case_title</th>\n",
       "      <th>subject</th>\n",
       "      <th>reason</th>\n",
       "      <th>...</th>\n",
       "      <th>ward</th>\n",
       "      <th>precinct</th>\n",
       "      <th>location_street_name</th>\n",
       "      <th>location_zipcode</th>\n",
       "      <th>latitude</th>\n",
       "      <th>longitude</th>\n",
       "      <th>source</th>\n",
       "      <th>year</th>\n",
       "      <th>sla_duration</th>\n",
       "      <th>geometry</th>\n",
       "    </tr>\n",
       "  </thead>\n",
       "  <tbody>\n",
       "    <tr>\n",
       "      <th>0</th>\n",
       "      <td>101000295613</td>\n",
       "      <td>2011-06-30 21:32:33</td>\n",
       "      <td>2011-07-14 21:32:32.000000000</td>\n",
       "      <td>2011-07-01 01:06:58</td>\n",
       "      <td>ONTIME</td>\n",
       "      <td>Closed</td>\n",
       "      <td>Case Closed Case Resolved replaced 100 amp fus...</td>\n",
       "      <td>Street Light Outages</td>\n",
       "      <td>Public Works Department</td>\n",
       "      <td>Street Lights</td>\n",
       "      <td>...</td>\n",
       "      <td>Ward 17</td>\n",
       "      <td>1714</td>\n",
       "      <td>INTERSECTION Groveland St &amp; River St</td>\n",
       "      <td>NaN</td>\n",
       "      <td>42.271544</td>\n",
       "      <td>-71.077221</td>\n",
       "      <td>Employee Generated</td>\n",
       "      <td>2011</td>\n",
       "      <td>13.0</td>\n",
       "      <td>POINT (-71.07722 42.27154)</td>\n",
       "    </tr>\n",
       "    <tr>\n",
       "      <th>1</th>\n",
       "      <td>101000295614</td>\n",
       "      <td>2011-06-30 22:18:31</td>\n",
       "      <td>2011-07-04 22:18:31.000000000</td>\n",
       "      <td>2011-07-01 02:12:43</td>\n",
       "      <td>ONTIME</td>\n",
       "      <td>Closed</td>\n",
       "      <td>Case Closed Case Scheduled Items have been sch...</td>\n",
       "      <td>Schedule a Bulk Item Pickup</td>\n",
       "      <td>Public Works Department</td>\n",
       "      <td>Sanitation</td>\n",
       "      <td>...</td>\n",
       "      <td>Ward 20</td>\n",
       "      <td>2008</td>\n",
       "      <td>39 Lorraine St</td>\n",
       "      <td>2131.0</td>\n",
       "      <td>42.283850</td>\n",
       "      <td>-71.144741</td>\n",
       "      <td>Self Service</td>\n",
       "      <td>2011</td>\n",
       "      <td>4.0</td>\n",
       "      <td>POINT (-71.14474 42.28385)</td>\n",
       "    </tr>\n",
       "    <tr>\n",
       "      <th>3</th>\n",
       "      <td>101000295616</td>\n",
       "      <td>2011-06-30 23:03:48</td>\n",
       "      <td>2011-07-14 23:03:48.000000000</td>\n",
       "      <td>2011-07-22 12:13:45</td>\n",
       "      <td>OVERDUE</td>\n",
       "      <td>Closed</td>\n",
       "      <td>Case Closed Case Resolved completed</td>\n",
       "      <td>Street Light Outages</td>\n",
       "      <td>Public Works Department</td>\n",
       "      <td>Street Lights</td>\n",
       "      <td>...</td>\n",
       "      <td>Ward 18</td>\n",
       "      <td>1816</td>\n",
       "      <td>235 Fairmount Ave</td>\n",
       "      <td>2136.0</td>\n",
       "      <td>42.249640</td>\n",
       "      <td>-71.115631</td>\n",
       "      <td>Self Service</td>\n",
       "      <td>2011</td>\n",
       "      <td>14.0</td>\n",
       "      <td>POINT (-71.11563 42.24964)</td>\n",
       "    </tr>\n",
       "    <tr>\n",
       "      <th>4</th>\n",
       "      <td>101000295617</td>\n",
       "      <td>2011-06-30 23:12:31</td>\n",
       "      <td>2011-07-26 05:31:27.842105263</td>\n",
       "      <td>2011-07-01 02:12:38</td>\n",
       "      <td>ONTIME</td>\n",
       "      <td>Closed</td>\n",
       "      <td>Case Closed Case Resolved</td>\n",
       "      <td>Highway Maintenance</td>\n",
       "      <td>Public Works Department</td>\n",
       "      <td>Highway Maintenance</td>\n",
       "      <td>...</td>\n",
       "      <td>Ward 13</td>\n",
       "      <td>1309</td>\n",
       "      <td>INTERSECTION Dorchester Ave &amp; Hallam St</td>\n",
       "      <td>NaN</td>\n",
       "      <td>42.314436</td>\n",
       "      <td>-71.056878</td>\n",
       "      <td>Constituent Call</td>\n",
       "      <td>2011</td>\n",
       "      <td>NaN</td>\n",
       "      <td>POINT (-71.05688 42.31444)</td>\n",
       "    </tr>\n",
       "    <tr>\n",
       "      <th>5</th>\n",
       "      <td>101000295618</td>\n",
       "      <td>2011-06-30 23:43:07</td>\n",
       "      <td>2011-07-01 11:43:07.000000000</td>\n",
       "      <td>2011-07-05 05:16:10</td>\n",
       "      <td>ONTIME</td>\n",
       "      <td>Closed</td>\n",
       "      <td>Case Closed Case Noted</td>\n",
       "      <td>Notification</td>\n",
       "      <td>Mayor's 24 Hour Hotline</td>\n",
       "      <td>Notification</td>\n",
       "      <td>...</td>\n",
       "      <td>Ward 10</td>\n",
       "      <td>1006</td>\n",
       "      <td>7 Edge Hill St</td>\n",
       "      <td>2130.0</td>\n",
       "      <td>42.324290</td>\n",
       "      <td>-71.106031</td>\n",
       "      <td>Constituent Call</td>\n",
       "      <td>2011</td>\n",
       "      <td>NaN</td>\n",
       "      <td>POINT (-71.10603 42.32429)</td>\n",
       "    </tr>\n",
       "  </tbody>\n",
       "</table>\n",
       "<p>5 rows × 30 columns</p>\n",
       "</div>"
      ],
      "text/plain": [
       "  case_enquiry_id             open_dt                 sla_target_dt  \\\n",
       "0    101000295613 2011-06-30 21:32:33 2011-07-14 21:32:32.000000000   \n",
       "1    101000295614 2011-06-30 22:18:31 2011-07-04 22:18:31.000000000   \n",
       "3    101000295616 2011-06-30 23:03:48 2011-07-14 23:03:48.000000000   \n",
       "4    101000295617 2011-06-30 23:12:31 2011-07-26 05:31:27.842105263   \n",
       "5    101000295618 2011-06-30 23:43:07 2011-07-01 11:43:07.000000000   \n",
       "\n",
       "            closed_dt  on_time case_status  \\\n",
       "0 2011-07-01 01:06:58   ONTIME      Closed   \n",
       "1 2011-07-01 02:12:43   ONTIME      Closed   \n",
       "3 2011-07-22 12:13:45  OVERDUE      Closed   \n",
       "4 2011-07-01 02:12:38   ONTIME      Closed   \n",
       "5 2011-07-05 05:16:10   ONTIME      Closed   \n",
       "\n",
       "                                      closure_reason  \\\n",
       "0  Case Closed Case Resolved replaced 100 amp fus...   \n",
       "1  Case Closed Case Scheduled Items have been sch...   \n",
       "3               Case Closed Case Resolved completed    \n",
       "4                         Case Closed Case Resolved    \n",
       "5                            Case Closed Case Noted    \n",
       "\n",
       "                    case_title                  subject               reason  \\\n",
       "0         Street Light Outages  Public Works Department        Street Lights   \n",
       "1  Schedule a Bulk Item Pickup  Public Works Department           Sanitation   \n",
       "3         Street Light Outages  Public Works Department        Street Lights   \n",
       "4          Highway Maintenance  Public Works Department  Highway Maintenance   \n",
       "5                 Notification  Mayor's 24 Hour Hotline         Notification   \n",
       "\n",
       "   ...     ward precinct                     location_street_name  \\\n",
       "0  ...  Ward 17     1714     INTERSECTION Groveland St & River St   \n",
       "1  ...  Ward 20     2008                           39 Lorraine St   \n",
       "3  ...  Ward 18     1816                        235 Fairmount Ave   \n",
       "4  ...  Ward 13     1309  INTERSECTION Dorchester Ave & Hallam St   \n",
       "5  ...  Ward 10     1006                           7 Edge Hill St   \n",
       "\n",
       "  location_zipcode   latitude  longitude              source  year  \\\n",
       "0              NaN  42.271544 -71.077221  Employee Generated  2011   \n",
       "1           2131.0  42.283850 -71.144741        Self Service  2011   \n",
       "3           2136.0  42.249640 -71.115631        Self Service  2011   \n",
       "4              NaN  42.314436 -71.056878    Constituent Call  2011   \n",
       "5           2130.0  42.324290 -71.106031    Constituent Call  2011   \n",
       "\n",
       "  sla_duration                    geometry  \n",
       "0         13.0  POINT (-71.07722 42.27154)  \n",
       "1          4.0  POINT (-71.14474 42.28385)  \n",
       "3         14.0  POINT (-71.11563 42.24964)  \n",
       "4          NaN  POINT (-71.05688 42.31444)  \n",
       "5          NaN  POINT (-71.10603 42.32429)  \n",
       "\n",
       "[5 rows x 30 columns]"
      ]
     },
     "execution_count": 33,
     "metadata": {},
     "output_type": "execute_result"
    }
   ],
   "source": [
    "gdf.head()"
   ]
  },
  {
   "cell_type": "markdown",
   "id": "c8917f13-310a-40e2-bc3b-5a0de18374e8",
   "metadata": {},
   "source": [
    "### Handling missing values in column location_zipcode"
   ]
  },
  {
   "cell_type": "code",
   "execution_count": 35,
   "id": "11c68eff-fe10-4805-9f7c-8bebd10838c3",
   "metadata": {},
   "outputs": [
    {
     "name": "stdout",
     "output_type": "stream",
     "text": [
      "case_enquiry_id                    0.000000\n",
      "open_dt                            0.000000\n",
      "sla_target_dt                      0.000000\n",
      "closed_dt                          0.000000\n",
      "on_time                            0.000000\n",
      "case_status                        0.000000\n",
      "closure_reason                     0.000000\n",
      "case_title                         0.000000\n",
      "subject                            0.000000\n",
      "reason                             0.000000\n",
      "type                               0.000000\n",
      "queue                              0.000000\n",
      "department                         0.000000\n",
      "location                           0.000000\n",
      "fire_district                      0.000000\n",
      "pwd_district                       0.000000\n",
      "city_council_district              0.000000\n",
      "police_district                    0.000000\n",
      "neighborhood                       0.000000\n",
      "neighborhood_services_district     0.000000\n",
      "ward                               0.000000\n",
      "precinct                           0.000000\n",
      "location_street_name               0.000000\n",
      "location_zipcode                  21.051085\n",
      "latitude                           0.000000\n",
      "longitude                          0.000000\n",
      "source                             0.000000\n",
      "year                               0.000000\n",
      "sla_duration                      14.534747\n",
      "geometry                           0.000000\n",
      "dtype: float64\n"
     ]
    }
   ],
   "source": [
    "g_check_null = gdf.isnull().sum()\n",
    "g_nullpercent = g_check_null/len(gdf)* 100\n",
    "print(g_nullpercent)"
   ]
  },
  {
   "cell_type": "code",
   "execution_count": 36,
   "id": "c1561245-7d76-4310-8828-9e91aa81a9fa",
   "metadata": {},
   "outputs": [
    {
     "name": "stdout",
     "output_type": "stream",
     "text": [
      "Requirement already satisfied: geopandas in c:\\users\\purva\\anaconda3\\lib\\site-packages (1.0.1)\n",
      "Requirement already satisfied: numpy>=1.22 in c:\\users\\purva\\anaconda3\\lib\\site-packages (from geopandas) (1.26.4)\n",
      "Requirement already satisfied: pyogrio>=0.7.2 in c:\\users\\purva\\anaconda3\\lib\\site-packages (from geopandas) (0.10.0)\n",
      "Requirement already satisfied: packaging in c:\\users\\purva\\anaconda3\\lib\\site-packages (from geopandas) (24.1)\n",
      "Requirement already satisfied: pandas>=1.4.0 in c:\\users\\purva\\anaconda3\\lib\\site-packages (from geopandas) (2.2.2)\n",
      "Requirement already satisfied: pyproj>=3.3.0 in c:\\users\\purva\\anaconda3\\lib\\site-packages (from geopandas) (3.7.0)\n",
      "Requirement already satisfied: shapely>=2.0.0 in c:\\users\\purva\\anaconda3\\lib\\site-packages (from geopandas) (2.0.7)\n",
      "Requirement already satisfied: python-dateutil>=2.8.2 in c:\\users\\purva\\anaconda3\\lib\\site-packages (from pandas>=1.4.0->geopandas) (2.9.0.post0)\n",
      "Requirement already satisfied: pytz>=2020.1 in c:\\users\\purva\\anaconda3\\lib\\site-packages (from pandas>=1.4.0->geopandas) (2024.1)\n",
      "Requirement already satisfied: tzdata>=2022.7 in c:\\users\\purva\\anaconda3\\lib\\site-packages (from pandas>=1.4.0->geopandas) (2023.3)\n",
      "Requirement already satisfied: certifi in c:\\users\\purva\\anaconda3\\lib\\site-packages (from pyogrio>=0.7.2->geopandas) (2025.1.31)\n",
      "Requirement already satisfied: six>=1.5 in c:\\users\\purva\\anaconda3\\lib\\site-packages (from python-dateutil>=2.8.2->pandas>=1.4.0->geopandas) (1.16.0)\n"
     ]
    }
   ],
   "source": [
    "!pip install geopandas"
   ]
  },
  {
   "cell_type": "code",
   "execution_count": 37,
   "id": "00d8f9cd-4c62-4a6c-9939-0e849d2bd282",
   "metadata": {},
   "outputs": [],
   "source": [
    "import geopandas"
   ]
  },
  {
   "cell_type": "code",
   "execution_count": 38,
   "id": "2eba391c-011b-4a9c-adce-1cc0f58bd742",
   "metadata": {},
   "outputs": [
    {
     "name": "stdout",
     "output_type": "stream",
     "text": [
      "Shapefile loaded successfully\n"
     ]
    }
   ],
   "source": [
    "import geopandas as gpd\n",
    "import pandas as pd\n",
    "\n",
    "# Convert to GeoDataFrame\n",
    "gdf_points = gpd.GeoDataFrame(\n",
    "    gdf,\n",
    "    geometry=gpd.points_from_xy(df.longitude, df.latitude),\n",
    "    crs=\"EPSG:4326\"\n",
    ")\n",
    "\n",
    "# Load the shapefile\n",
    "shpfile_path = \"D:\\\\6980-Capstone\\\\ZCTA_shapefile\\\\cb_2018_us_zcta510_500k.shp\"\n",
    "zip_gdf = gpd.read_file(shpfile_path)\n",
    "print(\"Shapefile loaded successfully\")\n"
   ]
  },
  {
   "cell_type": "code",
   "execution_count": 39,
   "id": "8dea4fc1-d965-40c0-a89b-09d94d5eb264",
   "metadata": {},
   "outputs": [
    {
     "name": "stdout",
     "output_type": "stream",
     "text": [
      "  ZCTA5CE10      AFFGEOID10 GEOID10    ALAND10  AWATER10  \\\n",
      "0     36083  8600000US36083   36083  659750662   5522919   \n",
      "1     35441  8600000US35441   35441  172850429   8749105   \n",
      "2     35051  8600000US35051   35051  280236456   5427285   \n",
      "3     35121  8600000US35121   35121  372736030   5349303   \n",
      "4     35058  8600000US35058   35058  178039922   3109259   \n",
      "\n",
      "                                            geometry  \n",
      "0  MULTIPOLYGON (((-85.63225 32.28098, -85.62439 ...  \n",
      "1  MULTIPOLYGON (((-87.83287 32.84437, -87.83184 ...  \n",
      "2  POLYGON ((-86.74384 33.25002, -86.73802 33.251...  \n",
      "3  POLYGON ((-86.58527 33.94743, -86.58033 33.948...  \n",
      "4  MULTIPOLYGON (((-86.87884 34.21196, -86.87649 ...  \n"
     ]
    }
   ],
   "source": [
    "print(zip_gdf.head())"
   ]
  },
  {
   "cell_type": "code",
   "execution_count": 40,
   "id": "b9aa4e7a-0a88-4df2-bee1-b75b60a163a0",
   "metadata": {},
   "outputs": [
    {
     "name": "stdout",
     "output_type": "stream",
     "text": [
      "Spatial Join Completed Successfully\n"
     ]
    }
   ],
   "source": [
    "# Perform spatial join\n",
    "joined_gdf = gpd.sjoin(gdf_points, zip_gdf, how='left', predicate='within')\n",
    "\n",
    "# Extract zip codes\n",
    "gdf['location_zipcode'] = joined_gdf['ZCTA5CE10']\n",
    "\n",
    "print(\"Spatial Join Completed Successfully\")"
   ]
  },
  {
   "cell_type": "code",
   "execution_count": 41,
   "id": "fef18aeb-3302-494d-b97c-8a3477121848",
   "metadata": {},
   "outputs": [],
   "source": [
    "#drop remaining 0.3% values from location_zipcode col\n",
    "gdf = gdf.dropna(subset=['location_zipcode'])"
   ]
  },
  {
   "cell_type": "code",
   "execution_count": 42,
   "id": "f0045dc8-20e8-407f-913f-c2930a491dc8",
   "metadata": {},
   "outputs": [
    {
     "name": "stdout",
     "output_type": "stream",
     "text": [
      "0.0\n"
     ]
    }
   ],
   "source": [
    "check_null_zipcd = gdf['location_zipcode'].isnull().sum()\n",
    "nullpercent_zipcd = check_null_zipcd/len(gdf)* 100\n",
    "print(nullpercent_zipcd)\n"
   ]
  },
  {
   "cell_type": "code",
   "execution_count": 43,
   "id": "b11ccb2c-111d-4cfd-97d9-bfa62892c293",
   "metadata": {},
   "outputs": [],
   "source": [
    "#dropping unnecessary column\n",
    "gdf = gdf.drop('sla_duration', axis=1)"
   ]
  },
  {
   "cell_type": "code",
   "execution_count": 44,
   "id": "41b574b2-3a36-4faf-81de-ecabd91651f0",
   "metadata": {},
   "outputs": [
    {
     "name": "stdout",
     "output_type": "stream",
     "text": [
      "case_enquiry_id                   0.0\n",
      "open_dt                           0.0\n",
      "sla_target_dt                     0.0\n",
      "closed_dt                         0.0\n",
      "on_time                           0.0\n",
      "case_status                       0.0\n",
      "closure_reason                    0.0\n",
      "case_title                        0.0\n",
      "subject                           0.0\n",
      "reason                            0.0\n",
      "type                              0.0\n",
      "queue                             0.0\n",
      "department                        0.0\n",
      "location                          0.0\n",
      "fire_district                     0.0\n",
      "pwd_district                      0.0\n",
      "city_council_district             0.0\n",
      "police_district                   0.0\n",
      "neighborhood                      0.0\n",
      "neighborhood_services_district    0.0\n",
      "ward                              0.0\n",
      "precinct                          0.0\n",
      "location_street_name              0.0\n",
      "location_zipcode                  0.0\n",
      "latitude                          0.0\n",
      "longitude                         0.0\n",
      "source                            0.0\n",
      "year                              0.0\n",
      "geometry                          0.0\n",
      "dtype: float64\n"
     ]
    }
   ],
   "source": [
    "g_check_null = gdf.isnull().sum()\n",
    "g_nullpercent = g_check_null/len(gdf)* 100\n",
    "print(g_nullpercent)"
   ]
  },
  {
   "cell_type": "code",
   "execution_count": 45,
   "id": "e1fdcf1b-9360-4dd2-9efa-fdda46d73c6d",
   "metadata": {},
   "outputs": [
    {
     "name": "stdout",
     "output_type": "stream",
     "text": [
      "case_enquiry_id                   0\n",
      "open_dt                           0\n",
      "sla_target_dt                     0\n",
      "closed_dt                         0\n",
      "on_time                           0\n",
      "case_status                       0\n",
      "closure_reason                    0\n",
      "case_title                        0\n",
      "subject                           0\n",
      "reason                            0\n",
      "type                              0\n",
      "queue                             0\n",
      "department                        0\n",
      "location                          0\n",
      "fire_district                     0\n",
      "pwd_district                      0\n",
      "city_council_district             0\n",
      "police_district                   0\n",
      "neighborhood                      0\n",
      "neighborhood_services_district    0\n",
      "ward                              0\n",
      "precinct                          0\n",
      "location_street_name              0\n",
      "location_zipcode                  0\n",
      "latitude                          0\n",
      "longitude                         0\n",
      "source                            0\n",
      "year                              0\n",
      "geometry                          0\n",
      "dtype: int64\n",
      "case_enquiry_id                   0\n",
      "open_dt                           0\n",
      "sla_target_dt                     0\n",
      "closed_dt                         0\n",
      "on_time                           0\n",
      "case_status                       0\n",
      "closure_reason                    0\n",
      "case_title                        0\n",
      "subject                           0\n",
      "reason                            0\n",
      "type                              0\n",
      "queue                             0\n",
      "department                        0\n",
      "location                          0\n",
      "fire_district                     0\n",
      "pwd_district                      0\n",
      "city_council_district             0\n",
      "police_district                   0\n",
      "neighborhood                      0\n",
      "neighborhood_services_district    0\n",
      "ward                              0\n",
      "precinct                          0\n",
      "location_street_name              0\n",
      "location_zipcode                  0\n",
      "latitude                          0\n",
      "longitude                         0\n",
      "source                            0\n",
      "year                              0\n",
      "geometry                          0\n",
      "dtype: int64\n"
     ]
    }
   ],
   "source": [
    "#checking NaN values or blank values\n",
    "blank_values = gdf.eq('').sum()\n",
    "print(blank_values)\n",
    "\n",
    "NaN = gdf.eq('Nan').sum()\n",
    "print(NaN)"
   ]
  },
  {
   "cell_type": "markdown",
   "id": "5e5b7220-4d51-45d4-b105-b33377cef07d",
   "metadata": {
    "jp-MarkdownHeadingCollapsed": true
   },
   "source": [
    "# Download file to local machine"
   ]
  },
  {
   "cell_type": "code",
   "execution_count": 49,
   "id": "ab3b8150-77b9-46f5-84c6-8c98ddf4046d",
   "metadata": {},
   "outputs": [
    {
     "name": "stdout",
     "output_type": "stream",
     "text": [
      "Data saved to Boston311.csv successfully\n"
     ]
    }
   ],
   "source": [
    "#save file to device\n",
    "csv_filepath = \"D:\\\\6980-Capstone\\\\Individual Project\\\\datasets\\\\Boston311.csv\"\n",
    "gdf.to_csv(csv_filepath, index=False)\n",
    "print (\"Data saved to Boston311.csv successfully\")"
   ]
  },
  {
   "cell_type": "code",
   "execution_count": 84,
   "id": "3da8153f-6f5d-463f-8d55-da928a4d854d",
   "metadata": {},
   "outputs": [
    {
     "name": "stdout",
     "output_type": "stream",
     "text": [
      "Filtered dataset saved successfully as 'syringe_requests_data.csv'.\n"
     ]
    }
   ],
   "source": [
    "# Filter for syringe-related requests\n",
    "syringe_csv_filepath = \"D:\\\\6980-Capstone\\\\Individual Project\\\\datasets\\\\syringe_requests_data.csv\"\n",
    "syringe_requests = gdf[gdf['case_title'].str.contains('syringe|needle', case=False, na=False)]\n",
    "\n",
    "# Check if the filtered dataset is empty\n",
    "if syringe_requests.empty:\n",
    "    print(\"No syringe-related requests found.\")\n",
    "else:\n",
    "    # Save the filtered dataset to a CSV file\n",
    "    syringe_requests.to_csv(syringe_csv_filepath, index=False)\n",
    "    print(\"Filtered dataset saved successfully as 'syringe_requests_data.csv'.\")\n"
   ]
  },
  {
   "cell_type": "markdown",
   "id": "e6355a6a-3f7d-4272-9a2d-6c2cf0527582",
   "metadata": {},
   "source": [
    "# END"
   ]
  }
 ],
 "metadata": {
  "kernelspec": {
   "display_name": "Python [conda env:base] *",
   "language": "python",
   "name": "conda-base-py"
  },
  "language_info": {
   "codemirror_mode": {
    "name": "ipython",
    "version": 3
   },
   "file_extension": ".py",
   "mimetype": "text/x-python",
   "name": "python",
   "nbconvert_exporter": "python",
   "pygments_lexer": "ipython3",
   "version": "3.12.3"
  }
 },
 "nbformat": 4,
 "nbformat_minor": 5
}
